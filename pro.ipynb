{
 "cells": [
  {
   "cell_type": "code",
   "execution_count": 1,
   "id": "eeb0542c-d2d9-42b3-ad34-0aa24f55d3d0",
   "metadata": {},
   "outputs": [
    {
     "name": "stdout",
     "output_type": "stream",
     "text": [
      "Requirement already satisfied: pandas in c:\\users\\sowmi\\anaconda3\\lib\\site-packages (2.0.3)\n",
      "Collecting textblob\n",
      "  Downloading textblob-0.18.0.post0-py3-none-any.whl.metadata (4.5 kB)\n",
      "Requirement already satisfied: python-dateutil>=2.8.2 in c:\\users\\sowmi\\appdata\\roaming\\python\\python311\\site-packages (from pandas) (2.9.0.post0)\n",
      "Requirement already satisfied: pytz>=2020.1 in c:\\users\\sowmi\\anaconda3\\lib\\site-packages (from pandas) (2023.3.post1)\n",
      "Requirement already satisfied: tzdata>=2022.1 in c:\\users\\sowmi\\anaconda3\\lib\\site-packages (from pandas) (2023.3)\n",
      "Requirement already satisfied: numpy>=1.21.0 in c:\\users\\sowmi\\anaconda3\\lib\\site-packages (from pandas) (1.24.3)\n",
      "Requirement already satisfied: nltk>=3.8 in c:\\users\\sowmi\\anaconda3\\lib\\site-packages (from textblob) (3.8.1)\n",
      "Requirement already satisfied: click in c:\\users\\sowmi\\appdata\\roaming\\python\\python311\\site-packages (from nltk>=3.8->textblob) (8.1.7)\n",
      "Requirement already satisfied: joblib in c:\\users\\sowmi\\anaconda3\\lib\\site-packages (from nltk>=3.8->textblob) (1.2.0)\n",
      "Requirement already satisfied: regex>=2021.8.3 in c:\\users\\sowmi\\anaconda3\\lib\\site-packages (from nltk>=3.8->textblob) (2022.7.9)\n",
      "Requirement already satisfied: tqdm in c:\\users\\sowmi\\anaconda3\\lib\\site-packages (from nltk>=3.8->textblob) (4.65.0)\n",
      "Requirement already satisfied: six>=1.5 in c:\\users\\sowmi\\appdata\\roaming\\python\\python311\\site-packages (from python-dateutil>=2.8.2->pandas) (1.16.0)\n",
      "Requirement already satisfied: colorama in c:\\users\\sowmi\\appdata\\roaming\\python\\python311\\site-packages (from click->nltk>=3.8->textblob) (0.4.6)\n",
      "Downloading textblob-0.18.0.post0-py3-none-any.whl (626 kB)\n",
      "   ---------------------------------------- 0.0/626.3 kB ? eta -:--:--\n",
      "    --------------------------------------- 10.2/626.3 kB ? eta -:--:--\n",
      "    --------------------------------------- 10.2/626.3 kB ? eta -:--:--\n",
      "    --------------------------------------- 10.2/626.3 kB ? eta -:--:--\n",
      "   -- ------------------------------------ 41.0/626.3 kB 219.4 kB/s eta 0:00:03\n",
      "   ----- --------------------------------- 92.2/626.3 kB 438.1 kB/s eta 0:00:02\n",
      "   -------- ----------------------------- 143.4/626.3 kB 568.9 kB/s eta 0:00:01\n",
      "   ------------ ------------------------- 204.8/626.3 kB 692.4 kB/s eta 0:00:01\n",
      "   ---------------- --------------------- 266.2/626.3 kB 780.5 kB/s eta 0:00:01\n",
      "   --------------------- ---------------- 358.4/626.3 kB 928.4 kB/s eta 0:00:01\n",
      "   ---------------------------- ----------- 440.3/626.3 kB 1.1 MB/s eta 0:00:01\n",
      "   ---------------------------------- ----- 532.5/626.3 kB 1.2 MB/s eta 0:00:01\n",
      "   ---------------------------------------  624.6/626.3 kB 1.2 MB/s eta 0:00:01\n",
      "   ---------------------------------------- 626.3/626.3 kB 1.2 MB/s eta 0:00:00\n",
      "Installing collected packages: textblob\n",
      "Successfully installed textblob-0.18.0.post0\n",
      "Note: you may need to restart the kernel to use updated packages.\n"
     ]
    }
   ],
   "source": [
    "pip install pandas textblob\n"
   ]
  },
  {
   "cell_type": "code",
   "execution_count": 6,
   "id": "65fdacae-2d9b-495d-91b5-0b9619f4b7d5",
   "metadata": {},
   "outputs": [
    {
     "name": "stdout",
     "output_type": "stream",
     "text": [
      "   Unnamed: 0                                             FBPost Label  \\\n",
      "0           0  Drug Runners and  a U.S. Senator have somethin...     O   \n",
      "1           1  Heres a single, to add, to Kindle. Just read t...     O   \n",
      "2           2  If you tire of Non-Fiction.. Check out http://...     O   \n",
      "3           3    Ghost of Round Island is supposedly nonfiction.     O   \n",
      "4           4  Why is Barnes and Nobles version of the Kindle...     N   \n",
      "\n",
      "   Sentiment  \n",
      "0   0.000000  \n",
      "1  -0.135714  \n",
      "2   0.000000  \n",
      "3  -0.200000  \n",
      "4   0.000000  \n"
     ]
    }
   ],
   "source": [
    "import pandas as pd\n",
    "from textblob import TextBlob\n",
    "\n",
    "# Load the CSV file into a DataFrame\n",
    "df = pd.read_csv('fb_sentiment.csv')\n",
    "\n",
    "# Function to perform sentiment analysis using TextBlob\n",
    "def analyze_sentiment(text):\n",
    "    blob = TextBlob(str(text))\n",
    "    return blob.sentiment.polarity\n",
    "\n",
    "# Apply sentiment analysis to each row in the DataFrame\n",
    "df['Sentiment'] = df['FBPost'].apply(analyze_sentiment)\n",
    "\n",
    "# Output the DataFrame with sentiment analysis results\n",
    "print(df.head())\n"
   ]
  },
  {
   "cell_type": "code",
   "execution_count": 8,
   "id": "7dc10a30-f436-4265-a51c-4e2ed4ed30cc",
   "metadata": {},
   "outputs": [
    {
     "name": "stdout",
     "output_type": "stream",
     "text": [
      "     Unnamed: 0                                             FBPost Label\n",
      "4             4  Why is Barnes and Nobles version of the Kindle...     N\n",
      "8             8  Meh. I think Singles are a bad idea. Big name ...     N\n",
      "10           10  I am not sure if i just got my update but now ...     N\n",
      "14           14  Not a fan of Kindle Singles.  They clog up the...     N\n",
      "23           23  Its just too bad you arent offering these for ...     N\n",
      "..          ...                                                ...   ...\n",
      "950         950  I love my Kindle, though the publishing indust...     N\n",
      "976         976  mmm No esto no es un iPad, es un libro; No tam...     N\n",
      "981         981  Throw it my purse and go. Have my whole librar...     N\n",
      "992         992  I was reading with it for around 8 hours yeste...     N\n",
      "998         998  develop a way to share books!  that is a big d...     N\n",
      "\n",
      "[79 rows x 3 columns]\n"
     ]
    }
   ],
   "source": [
    "\n",
    "# Filter out rows with negative sentiment (label 'N')\n",
    "negative_feedback = df[df['Label'] == 'N']\n",
    "\n",
    "# Output the negative feedback\n",
    "print(negative_feedback)\n"
   ]
  },
  {
   "cell_type": "code",
   "execution_count": null,
   "id": "8db28a1d-4e6e-4834-896a-3767f60d043f",
   "metadata": {},
   "outputs": [],
   "source": []
  }
 ],
 "metadata": {
  "kernelspec": {
   "display_name": "Python 3 (ipykernel)",
   "language": "python",
   "name": "python3"
  },
  "language_info": {
   "codemirror_mode": {
    "name": "ipython",
    "version": 3
   },
   "file_extension": ".py",
   "mimetype": "text/x-python",
   "name": "python",
   "nbconvert_exporter": "python",
   "pygments_lexer": "ipython3",
   "version": "3.11.5"
  }
 },
 "nbformat": 4,
 "nbformat_minor": 5
}
